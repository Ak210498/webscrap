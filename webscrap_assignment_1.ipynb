{
 "cells": [
  {
   "cell_type": "code",
   "execution_count": 24,
   "id": "e6a2c5bd",
   "metadata": {},
   "outputs": [],
   "source": [
    "#import important libraries\n",
    "import  requests \n",
    "from bs4 import BeautifulSoup\n",
    "import pandas as pd"
   ]
  },
  {
   "cell_type": "code",
   "execution_count": 25,
   "id": "84842b62",
   "metadata": {},
   "outputs": [],
   "source": [
    "#loading url\n",
    "url = \"http://quotes.toscrape.com/page/1/\""
   ]
  },
  {
   "cell_type": "code",
   "execution_count": 26,
   "id": "667bdc9b",
   "metadata": {},
   "outputs": [],
   "source": [
    "res = requests.get(url)\n",
    "html = BeautifulSoup(res.content ,\"html.parser\")\n",
    "quoteText = html.find_all(\"div\" , class_=\"quote\")\n",
    "quotes_authors_tag = []\n",
    "for q in quoteText:\n",
    "    quotes = q.text.strip().split(\"\\n\")[0]\n",
    "    #print(quotes)\n",
    "    author = q.find(\"small\",class_=\"author\").text.strip().split(\"\\n\")\n",
    "    #print(author.text.strip())\n",
    "    tags = q.find(\"div\",class_=\"tags\").text.strip().split(\"\\n\")\n",
    "    tags.pop(1)\n",
    "    #print(tags.text.strip())\n",
    "    quotes_authors_tag.append([quotes,author,tags])\n",
    "    #print(quotes_authors_tag)"
   ]
  },
  {
   "cell_type": "code",
   "execution_count": 27,
   "id": "9d6c1978",
   "metadata": {},
   "outputs": [
    {
     "data": {
      "text/html": [
       "<div>\n",
       "<style scoped>\n",
       "    .dataframe tbody tr th:only-of-type {\n",
       "        vertical-align: middle;\n",
       "    }\n",
       "\n",
       "    .dataframe tbody tr th {\n",
       "        vertical-align: top;\n",
       "    }\n",
       "\n",
       "    .dataframe thead th {\n",
       "        text-align: right;\n",
       "    }\n",
       "</style>\n",
       "<table border=\"1\" class=\"dataframe\">\n",
       "  <thead>\n",
       "    <tr style=\"text-align: right;\">\n",
       "      <th></th>\n",
       "      <th>Title</th>\n",
       "      <th>Authors</th>\n",
       "      <th>Tags</th>\n",
       "    </tr>\n",
       "  </thead>\n",
       "  <tbody>\n",
       "    <tr>\n",
       "      <th>0</th>\n",
       "      <td>“The world as we have created it is a process ...</td>\n",
       "      <td>[Albert Einstein]</td>\n",
       "      <td>[Tags:, change, deep-thoughts, thinking, world]</td>\n",
       "    </tr>\n",
       "    <tr>\n",
       "      <th>1</th>\n",
       "      <td>“It is our choices, Harry, that show what we t...</td>\n",
       "      <td>[J.K. Rowling]</td>\n",
       "      <td>[Tags:, abilities, choices]</td>\n",
       "    </tr>\n",
       "    <tr>\n",
       "      <th>2</th>\n",
       "      <td>“There are only two ways to live your life. On...</td>\n",
       "      <td>[Albert Einstein]</td>\n",
       "      <td>[Tags:, inspirational, life, live, miracle, mi...</td>\n",
       "    </tr>\n",
       "    <tr>\n",
       "      <th>3</th>\n",
       "      <td>“The person, be it gentleman or lady, who has ...</td>\n",
       "      <td>[Jane Austen]</td>\n",
       "      <td>[Tags:, aliteracy, books, classic, humor]</td>\n",
       "    </tr>\n",
       "    <tr>\n",
       "      <th>4</th>\n",
       "      <td>“Imperfection is beauty, madness is genius and...</td>\n",
       "      <td>[Marilyn Monroe]</td>\n",
       "      <td>[Tags:, be-yourself, inspirational]</td>\n",
       "    </tr>\n",
       "  </tbody>\n",
       "</table>\n",
       "</div>"
      ],
      "text/plain": [
       "                                               Title            Authors  \\\n",
       "0  “The world as we have created it is a process ...  [Albert Einstein]   \n",
       "1  “It is our choices, Harry, that show what we t...     [J.K. Rowling]   \n",
       "2  “There are only two ways to live your life. On...  [Albert Einstein]   \n",
       "3  “The person, be it gentleman or lady, who has ...      [Jane Austen]   \n",
       "4  “Imperfection is beauty, madness is genius and...   [Marilyn Monroe]   \n",
       "\n",
       "                                                Tags  \n",
       "0    [Tags:, change, deep-thoughts, thinking, world]  \n",
       "1                        [Tags:, abilities, choices]  \n",
       "2  [Tags:, inspirational, life, live, miracle, mi...  \n",
       "3          [Tags:, aliteracy, books, classic, humor]  \n",
       "4                [Tags:, be-yourself, inspirational]  "
      ]
     },
     "execution_count": 27,
     "metadata": {},
     "output_type": "execute_result"
    }
   ],
   "source": [
    "df = pd.DataFrame(quotes_authors_tag,columns = [\"Title\",\"Authors\",\"Tags\"])\n",
    "df.head()"
   ]
  },
  {
   "cell_type": "code",
   "execution_count": 28,
   "id": "bb657d90",
   "metadata": {},
   "outputs": [],
   "source": [
    "df.to_csv(\"quotes_scraped.csv\")"
   ]
  },
  {
   "cell_type": "code",
   "execution_count": null,
   "id": "e8e0235d",
   "metadata": {},
   "outputs": [],
   "source": []
  }
 ],
 "metadata": {
  "kernelspec": {
   "display_name": "Python 3 (ipykernel)",
   "language": "python",
   "name": "python3"
  },
  "language_info": {
   "codemirror_mode": {
    "name": "ipython",
    "version": 3
   },
   "file_extension": ".py",
   "mimetype": "text/x-python",
   "name": "python",
   "nbconvert_exporter": "python",
   "pygments_lexer": "ipython3",
   "version": "3.9.12"
  }
 },
 "nbformat": 4,
 "nbformat_minor": 5
}
